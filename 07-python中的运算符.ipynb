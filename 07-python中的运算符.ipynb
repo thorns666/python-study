{
 "cells": [
  {
   "cell_type": "code",
   "execution_count": null,
   "metadata": {},
   "outputs": [],
   "source": []
  },
  {
   "cell_type": "markdown",
   "metadata": {},
   "source": []
  },
  {
   "cell_type": "code",
   "execution_count": 3,
   "metadata": {},
   "outputs": [
    {
     "name": "stdout",
     "output_type": "stream",
     "text": [
      "1 = 1 =  2\n",
      "2 - 1 =  1\n",
      "3 * 3 =  9\n",
      "4 / 2 =  2.0\n",
      "11 // 2 = 5\n",
      "9 % 2 = 1\n",
      "2 ** 2 = 4\n"
     ]
    }
   ],
   "source": [
    "\"\"\"\n",
    "演示python中的各类运算符\n",
    "\"\"\"\n",
    "# 算术运算符 + - * / % // **\n",
    "print(\"1 = 1 = \", 1 + 1)\n",
    "print(\"2 - 1 = \", 2 - 1)\n",
    "print(\"3 * 3 = \", 3 * 3)\n",
    "print(\"4 / 2 = \",4 / 2)\n",
    "print(\"11 // 2 =\", 11 // 2)\n",
    "print(\"9 % 2 =\", 9 % 2)\n",
    "print(\"2 ** 2 =\", 2 ** 2)\n"
   ]
  },
  {
   "cell_type": "code",
   "execution_count": 5,
   "metadata": {},
   "outputs": [
    {
     "name": "stdout",
     "output_type": "stream",
     "text": [
      "7\n"
     ]
    }
   ],
   "source": [
    "# 赋值运算符 =\n",
    "num = 1 + 2 * 3\n",
    "print(num)"
   ]
  },
  {
   "cell_type": "code",
   "execution_count": 7,
   "metadata": {},
   "outputs": [
    {
     "name": "stdout",
     "output_type": "stream",
     "text": [
      "num += 1: 2\n",
      "num -= 1: 1\n",
      "num *= 4: 4\n",
      "num /= 2: 2.0\n",
      "num %= 2: 1\n",
      "num += 2: 1\n",
      "num //= 2: 4\n"
     ]
    }
   ],
   "source": [
    "# 复合赋值运算符 += -= *= /= %= **= //=\n",
    "num = 1\n",
    "num += 1 # num = num + 1\n",
    "print(\"num += 1:\", num)\n",
    "\n",
    "num -= 1 \n",
    "print(\"num -= 1:\", num)\n",
    "\n",
    "num *= 4 \n",
    "print(\"num *= 4:\", num)\n",
    "\n",
    "num /= 2 \n",
    "print(\"num /= 2:\", num)\n",
    "\n",
    "num = 3\n",
    "num %= 2 \n",
    "print(\"num %= 2:\", num)\n",
    "\n",
    "num **= 2 # num = num ** 2\n",
    "print(\"num += 2:\", num)\n",
    "\n",
    "num = 9\n",
    "num //= 2 # num = num // 2\n",
    "print(\"num //= 2:\", num)\n",
    "\n",
    "\n"
   ]
  }
 ],
 "metadata": {
  "kernelspec": {
   "display_name": "base",
   "language": "python",
   "name": "python3"
  },
  "language_info": {
   "codemirror_mode": {
    "name": "ipython",
    "version": 3
   },
   "file_extension": ".py",
   "mimetype": "text/x-python",
   "name": "python",
   "nbconvert_exporter": "python",
   "pygments_lexer": "ipython3",
   "version": "3.11.7"
  }
 },
 "nbformat": 4,
 "nbformat_minor": 2
}
