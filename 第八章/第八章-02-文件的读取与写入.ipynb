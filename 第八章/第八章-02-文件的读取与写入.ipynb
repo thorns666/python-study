{
 "cells": [
  {
   "cell_type": "markdown",
   "metadata": {},
   "source": [
    "open()打开函数\n",
    " open函数可以打开一个已经存在在，或创建一个新文件，"
   ]
  },
  {
   "cell_type": "code",
   "execution_count": null,
   "metadata": {},
   "outputs": [],
   "source": [
    "# open(name, mode, encoding)\n",
    "# name:是要打开的目标文件的字符串(可以包含文件所在的具体路径)\n",
    "# mode:设置打开文件的模式(访问模式):只读、写入、追加等。\n",
    "# encoding:编码格式"
   ]
  },
  {
   "cell_type": "code",
   "execution_count": 8,
   "metadata": {},
   "outputs": [
    {
     "name": "stdout",
     "output_type": "stream",
     "text": [
      "<class '_io.TextIOWrapper'>\n"
     ]
    }
   ],
   "source": [
    "# 打开文件\n",
    "f = open('python.txt','r',encoding= \"UTF-8\")\n",
    "print(type(f))\n",
    "# encoding的顺序不是第三位，所以不能用位置参数，用关键字参数直接指定"
   ]
  },
  {
   "cell_type": "markdown",
   "metadata": {},
   "source": [
    "r：以只读方式打开文件。文件指针将会放在文件的开头。\n",
    "w：打开一个文件只用于写入。如果该文件已存在，则打开文件并从开头开始编辑，即原有内容会被删除。如果该文件不存在，创建新文件。\n",
    "a：打开一个文件用于追加。如果该文件已存在，文件指针将会放在文件的结尾，新的内容将会被写入到已有内容之后。如果该文件不存在，创建新文件进行写入。"
   ]
  },
  {
   "cell_type": "code",
   "execution_count": 25,
   "metadata": {},
   "outputs": [
    {
     "name": "stdout",
     "output_type": "stream",
     "text": [
      "读取15个字节的内容是:{f.read(15)}\n",
      "读取15个字节的内容是:浩浩用一分钱买啦60瓶饮料。\n",
      "\n",
      "读取全部内容是:然后分给全寝室的人喝。\n",
      "------------------------------------------\n",
      "lines对象的类型:<class 'list'>\n",
      "lines对象内容是:['浩浩用一分钱买啦60瓶饮料。\\n', '然后分给全寝室的人喝。']\n",
      "浩浩用一分钱买啦60瓶饮料。\n",
      "\n",
      "然后分给全寝室的人喝。\n",
      "\n"
     ]
    }
   ],
   "source": [
    "f = open('python.txt','r',encoding= \"UTF-8\")\n",
    "# 读取文件 - read(num) num表示要从文件中读取的数据长度（单位：字节），没有默认读取所有数。\n",
    "\n",
    "# bit_char = f.read()\n",
    "# print(bit_char)\n",
    "\n",
    "print(\"读取15个字节的内容是:{f.read(15)}\")\n",
    "print(f\"读取15个字节的内容是:{f.read(15)}\")\n",
    "print(f\"读取全部内容是:{f.read()}\")\n",
    "f.close()\n",
    "\n",
    "# 接着读的\n",
    "print(\"------------------------------------------\")\n",
    "f = open(\"python.txt\",\"r\",encoding = \"UTF-8\")\n",
    "# -readlines()\n",
    "# readlines可以按照行的方式把整个文件的的内容进行一次性读取，并且返回的是一个列表，其中每行的数据为一个元素。\n",
    "\n",
    "lines = f.readlines()   # 读取文件的全部行，封装到列表中\n",
    "print(f\"lines对象的类型:{type(lines)}\")\n",
    "\n",
    "print(f\"lines对象内容是:{lines}\")\n",
    "f.close()\n",
    "\n",
    "\n",
    "f = open(\"python.txt\",\"r\",encoding =\"UTF-8\")\n",
    "# readline() -一次读取一行内容\n",
    "line1 = f.readline()\n",
    "line2 = f.readline()\n",
    "line3 = f.readline()\n",
    "print(f\"{line1}\\n{line2}\\n{line3}\")\n",
    "\n"
   ]
  },
  {
   "cell_type": "code",
   "execution_count": null,
   "metadata": {},
   "outputs": [],
   "source": []
  }
 ],
 "metadata": {
  "kernelspec": {
   "display_name": "base",
   "language": "python",
   "name": "python3"
  },
  "language_info": {
   "codemirror_mode": {
    "name": "ipython",
    "version": 3
   },
   "file_extension": ".py",
   "mimetype": "text/x-python",
   "name": "python",
   "nbconvert_exporter": "python",
   "pygments_lexer": "ipython3",
   "version": "3.11.7"
  }
 },
 "nbformat": 4,
 "nbformat_minor": 2
}
