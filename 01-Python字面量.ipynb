{
 "cells": [
  {
   "cell_type": "code",
   "execution_count": 1,
   "id": "d4e44970-09c8-4f66-aebe-ef5d340522f3",
   "metadata": {},
   "outputs": [
    {
     "name": "stdout",
     "output_type": "stream",
     "text": [
      "Hello World！\n"
     ]
    }
   ],
   "source": [
    "print(\"Hello World！\")"
   ]
  },
  {
   "cell_type": "code",
   "execution_count": 2,
   "id": "82377dba-0da3-43b3-8c5b-b5b2e49b90df",
   "metadata": {},
   "outputs": [
    {
     "name": "stdout",
     "output_type": "stream",
     "text": [
      "13.14\n"
     ]
    }
   ],
   "source": [
    "print(13.14)"
   ]
  },
  {
   "cell_type": "code",
   "execution_count": 3,
   "id": "500df667-a85e-443a-9fd1-a0493b05e660",
   "metadata": {},
   "outputs": [
    {
     "name": "stdout",
     "output_type": "stream",
     "text": [
      "你好 13.14\n"
     ]
    }
   ],
   "source": [
    "print(\"你好\",13.14)"
   ]
  },
  {
   "cell_type": "code",
   "execution_count": 4,
   "id": "bf0f03b3-ba6f-43e1-8830-35a4a4161135",
   "metadata": {},
   "outputs": [
    {
     "name": "stdout",
     "output_type": "stream",
     "text": [
      "15 1.414 HEllo\n"
     ]
    }
   ],
   "source": [
    "# 一个整型字面量\n",
    "15\n",
    "# 一个浮点数字面量\n",
    "1.414\n",
    "# 一组字符串字面量\n",
    "\"Hello\"\n",
    "# 用print函数输出\n",
    "print(15,1.414,\"HEllo\")"
   ]
  },
  {
   "cell_type": "code",
   "execution_count": 5,
   "id": "f25cc6eb-d16c-455f-96f3-eeaf9c7bb09f",
   "metadata": {},
   "outputs": [
    {
     "name": "stdout",
     "output_type": "stream",
     "text": [
      "0\n"
     ]
    }
   ],
   "source": [
    "a = 0\n",
    "print(a)"
   ]
  },
  {
   "cell_type": "code",
   "execution_count": 10,
   "id": "0701c0ae-f409-4a2a-8b43-cde8a6d01dc1",
   "metadata": {},
   "outputs": [
    {
     "name": "stdout",
     "output_type": "stream",
     "text": [
      "钱包还有 90 ￥\n"
     ]
    }
   ],
   "source": [
    "money = 100\n",
    "money = money-10\n",
    "print(\"钱包还有\",money,\"￥\")"
   ]
  },
  {
   "cell_type": "code",
   "execution_count": 4,
   "id": "097af5ab-7d1f-45fd-985f-9b5592c2c54a",
   "metadata": {},
   "outputs": [
    {
     "name": "stdout",
     "output_type": "stream",
     "text": [
      "60\n"
     ]
    }
   ],
   "source": [
    "money = 70\n",
    "money = money - 10\n",
    "print(money)\n"
   ]
  },
  {
   "cell_type": "code",
   "execution_count": 5,
   "id": "7daa3da2-48b9-449c-8164-6d25d92f6f0b",
   "metadata": {},
   "outputs": [
    {
     "name": "stdout",
     "output_type": "stream",
     "text": [
      "<class 'str'>\n",
      "<class 'int'>\n",
      "<class 'float'>\n"
     ]
    }
   ],
   "source": [
    "print(type(\"河南\"))\n",
    "print(type(666))\n",
    "print(type(13.14))"
   ]
  },
  {
   "cell_type": "code",
   "execution_count": null,
   "id": "ffcd8fcc-6422-498f-9d47-76cdd3605bd2",
   "metadata": {},
   "outputs": [],
   "source": []
  }
 ],
 "metadata": {
  "kernelspec": {
   "display_name": "Python 3 (ipykernel)",
   "language": "python",
   "name": "python3"
  },
  "language_info": {
   "codemirror_mode": {
    "name": "ipython",
    "version": 3
   },
   "file_extension": ".py",
   "mimetype": "text/x-python",
   "name": "python",
   "nbconvert_exporter": "python",
   "pygments_lexer": "ipython3",
   "version": "3.11.7"
  }
 },
 "nbformat": 4,
 "nbformat_minor": 5
}
