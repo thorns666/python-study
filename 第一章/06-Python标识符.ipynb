{
 "cells": [
  {
   "cell_type": "code",
   "execution_count": 1,
   "metadata": {},
   "outputs": [
    {
     "name": "stdout",
     "output_type": "stream",
     "text": [
      "张三\n",
      "张三\n",
      "张三\n",
      "黑马程序员\n",
      "666\n",
      "1\n"
     ]
    }
   ],
   "source": [
    "#对变量，类。方法等编写的名字\n",
    "# 标识符的命名规则\n",
    "# 规则1：限定只能使用：中文,英文，数字，下划线，注意：不能以数字开头\n",
    "# 错误代码示范：\n",
    "    # 1_name = \"张三\"\n",
    "    # name_! = \"张三\"\n",
    "name_ = \"张三\"\n",
    "_name = \"张三\"\n",
    "name_1 = \"张三\"\n",
    "\n",
    "print(name_)\n",
    "print(_name)\n",
    "print(name_1)\n",
    "# 规则2：大小写敏感\n",
    "\n",
    "Iteima = \"黑马程序员\"\n",
    "iteima = 666\n",
    "\n",
    "print(Iteima)\n",
    "print(iteima)\n",
    "\n",
    "# 规则3：不可使用关键字\n",
    "# 错误的示例，使用啦关键字 class = 1\n",
    "# 错误的示例，使用啦关键字 def =1\n",
    "Class = 1\n",
    "\n",
    "print(Class)\n"
   ]
  },
  {
   "cell_type": "code",
   "execution_count": null,
   "metadata": {},
   "outputs": [],
   "source": [
    "# 标识符的命名规范\n"
   ]
  }
 ],
 "metadata": {
  "kernelspec": {
   "display_name": "base",
   "language": "python",
   "name": "python3"
  },
  "language_info": {
   "codemirror_mode": {
    "name": "ipython",
    "version": 3
   },
   "file_extension": ".py",
   "mimetype": "text/x-python",
   "name": "python",
   "nbconvert_exporter": "python",
   "pygments_lexer": "ipython3",
   "version": "3.11.7"
  }
 },
 "nbformat": 4,
 "nbformat_minor": 2
}
