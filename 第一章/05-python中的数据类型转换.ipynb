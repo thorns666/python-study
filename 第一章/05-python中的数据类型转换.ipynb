{
 "cells": [
  {
   "cell_type": "code",
   "execution_count": null,
   "id": "2f0f0baf-5f2f-43e9-ac86-66063113c308",
   "metadata": {},
   "outputs": [],
   "source": [
    "# 常见的转换语句\n",
    "# int(x)    将x转换为一个整数  \n",
    "# float(x)  将x转换为一个浮点数 \n",
    "# str(x)    将x转换为一个字符串"
   ]
  },
  {
   "cell_type": "code",
   "execution_count": 2,
   "id": "0660f0df-f072-4254-a2ff-761b60475d4b",
   "metadata": {},
   "outputs": [
    {
     "name": "stdout",
     "output_type": "stream",
     "text": [
      "<class 'str'> 11\n"
     ]
    }
   ],
   "source": [
    "# 将数字类型转换成字符串\n",
    "num_str = str(11)\n",
    "print(type(num_str),num_str)"
   ]
  },
  {
   "cell_type": "code",
   "execution_count": 4,
   "id": "cd204138-3e41-4ce0-b1d4-acd4fbf4cd7d",
   "metadata": {},
   "outputs": [
    {
     "name": "stdout",
     "output_type": "stream",
     "text": [
      "<class 'str'> 11.14\n"
     ]
    }
   ],
   "source": [
    "float_str = str(11.14)\n",
    "print(type(float_str),float_str)"
   ]
  },
  {
   "cell_type": "code",
   "execution_count": 5,
   "id": "e84b8ae8-da09-48df-bb46-efcd78800ec9",
   "metadata": {},
   "outputs": [
    {
     "name": "stdout",
     "output_type": "stream",
     "text": [
      "<class 'int'> 11\n"
     ]
    }
   ],
   "source": [
    "# 将字符串转换成数字\n",
    "num = int(\"11\")\n",
    "print(type(num),num)"
   ]
  },
  {
   "cell_type": "code",
   "execution_count": 6,
   "id": "6e6ce885-b851-4c96-88ef-29adc05e2a50",
   "metadata": {},
   "outputs": [
    {
     "name": "stdout",
     "output_type": "stream",
     "text": [
      "<class 'float'> 11.14\n"
     ]
    }
   ],
   "source": [
    "num2 = float(\"11.14\")\n",
    "print(type(num2),num2)"
   ]
  },
  {
   "cell_type": "code",
   "execution_count": null,
   "id": "6716a0ef-e701-47c5-963d-119dec8bfb9e",
   "metadata": {},
   "outputs": [],
   "source": [
    "# 错误示例：将字符串转换成数字，必须要\n",
    "# num3 = int(\"黑马程序员\")\n",
    "# print(type(num3),num3)"
   ]
  },
  {
   "cell_type": "code",
   "execution_count": 7,
   "id": "cacde2d0-5f3b-4279-9ca5-05ce5bcda1cc",
   "metadata": {},
   "outputs": [
    {
     "name": "stdout",
     "output_type": "stream",
     "text": [
      "<class 'float'> 11.0\n"
     ]
    }
   ],
   "source": [
    "# 整数转浮点数\n",
    "float_num = float(11)\n",
    "print(type(float_num),float_num)"
   ]
  },
  {
   "cell_type": "code",
   "execution_count": 8,
   "id": "378d419b-c297-4a82-b6b8-521d7d9faa10",
   "metadata": {},
   "outputs": [
    {
     "name": "stdout",
     "output_type": "stream",
     "text": [
      "<class 'int'> 13\n"
     ]
    }
   ],
   "source": [
    "# d浮点数转整数\n",
    "int_num = int(13.14)\n",
    "print(type(int_num),int_num)\n",
    "\n",
    "# 会丢失精度，即小数。"
   ]
  },
  {
   "cell_type": "code",
   "execution_count": 5,
   "id": "adb2b560-ef02-4437-a1db-937ac7e6679e",
   "metadata": {},
   "outputs": [
    {
     "name": "stdout",
     "output_type": "stream",
     "text": [
      "123 123.4\n"
     ]
    }
   ],
   "source": [
    "a = 1.234e2\n",
    "\n",
    "b = int(a)\n",
    "print(b, a)"
   ]
  },
  {
   "cell_type": "code",
   "execution_count": null,
   "id": "1b011d27-b9a4-4fb8-9294-fedbcd66c9b5",
   "metadata": {},
   "outputs": [],
   "source": []
  },
  {
   "cell_type": "code",
   "execution_count": null,
   "id": "e0686471-69fc-4c0a-84af-b665e395ddf7",
   "metadata": {},
   "outputs": [],
   "source": []
  },
  {
   "cell_type": "code",
   "execution_count": null,
   "id": "58236c5f-a6a9-45b0-8f1b-0e5e9e6d0a6f",
   "metadata": {},
   "outputs": [],
   "source": []
  },
  {
   "cell_type": "code",
   "execution_count": null,
   "id": "815f39df-ca6b-45dc-a2f6-2af56b6892b5",
   "metadata": {},
   "outputs": [],
   "source": []
  },
  {
   "cell_type": "code",
   "execution_count": null,
   "id": "30133f95-087d-4319-b51a-50f5b4792e14",
   "metadata": {},
   "outputs": [],
   "source": []
  }
 ],
 "metadata": {
  "kernelspec": {
   "display_name": "Python 3 (ipykernel)",
   "language": "python",
   "name": "python3"
  },
  "language_info": {
   "codemirror_mode": {
    "name": "ipython",
    "version": 3
   },
   "file_extension": ".py",
   "mimetype": "text/x-python",
   "name": "python",
   "nbconvert_exporter": "python",
   "pygments_lexer": "ipython3",
   "version": "3.11.7"
  }
 },
 "nbformat": 4,
 "nbformat_minor": 5
}
