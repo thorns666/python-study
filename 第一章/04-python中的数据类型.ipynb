{
 "cells": [
  {
   "cell_type": "raw",
   "id": "ace6554c-b101-49c5-90ec-ec0f07147b3c",
   "metadata": {
    "vscode": {
     "languageId": "raw"
    }
   },
   "source": [
    "# 方式1:使用print直接输出类型信息\n",
    "\n",
    "print(type(\"黑马程序员\"))\n",
    "print(type(666))\n",
    "print(type(13.14))\n"
   ]
  },
  {
   "cell_type": "raw",
   "id": "6ac79e3c-8b05-4382-8e96-d181264bc6d9",
   "metadata": {
    "vscode": {
     "languageId": "raw"
    }
   },
   "source": [
    "# 方式2:使用变量存储type()语句的结果\n",
    "\n",
    "string_type = type(\"黑马程序员\")\n",
    "int_type = type(666)\n",
    "float_type = type(13.14)\n",
    "print(string_type)\n",
    "print(int_type)\n",
    "print(float_type)"
   ]
  },
  {
   "cell_type": "code",
   "execution_count": 12,
   "id": "4cde959c-56bf-4f8d-a5c5-4ce482b2a553",
   "metadata": {},
   "outputs": [
    {
     "data": {
      "text/plain": [
       "\"<class 'str'>\""
      ]
     },
     "execution_count": 12,
     "metadata": {},
     "output_type": "execute_result"
    }
   ],
   "source": [
    "# 方式3：使用type()语句，查看变量中存储的数据类型信息\n",
    "\n",
    "name = \"黑马程序员\"\n",
    "name_type = type(name)\n",
    "print(name_type)\n",
    "\n",
    "# 为什么输出结果带双引号"
   ]
  },
  {
   "cell_type": "raw",
   "id": "5d99c731-cefd-4c79-a359-7a1b645c3ea8",
   "metadata": {},
   "source": [
    "    type(变量）输出的是：变量存储的数据的类型。\n",
    "    变量无类型，但它存储的变量的数据有\n",
    "    字符串变量：不是变量是字符串，而是它存储了：字符串"
   ]
  },
  {
   "cell_type": "code",
   "execution_count": null,
   "id": "7e1b097c-ef36-48e2-8807-5788fb276115",
   "metadata": {},
   "outputs": [],
   "source": []
  }
 ],
 "metadata": {
  "kernelspec": {
   "display_name": "Python 3 (ipykernel)",
   "language": "python",
   "name": "python3"
  },
  "language_info": {
   "codemirror_mode": {
    "name": "ipython",
    "version": 3
   },
   "file_extension": ".py",
   "mimetype": "text/x-python",
   "name": "python",
   "nbconvert_exporter": "python",
   "pygments_lexer": "ipython3",
   "version": "3.11.7"
  }
 },
 "nbformat": 4,
 "nbformat_minor": 5
}
