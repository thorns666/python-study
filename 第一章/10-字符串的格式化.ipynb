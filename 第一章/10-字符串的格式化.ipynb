{
 "cells": [
  {
   "cell_type": "markdown",
   "metadata": {},
   "source": [
    "通过占位的形式拼接字符串"
   ]
  },
  {
   "cell_type": "code",
   "execution_count": 5,
   "metadata": {},
   "outputs": [
    {
     "name": "stdout",
     "output_type": "stream",
     "text": [
      "爱打游戏的是: 浩浩 \n"
     ]
    }
   ],
   "source": [
    "# 当变量过多时，拼接起来麻烦\n",
    "# 字符串无法和数字或其他类型完成拼接\n",
    "\n",
    "# 占位拼接\n",
    "name = \"浩浩\"\n",
    "print(\"爱打游戏的是: %s\" % name)\n",
    "\n",
    "# 这个地方类似C语言的printf语句\n",
    "\n",
    "\n",
    "#    ~ % 表示：我要占位\n",
    "#   ~ s 表示：将变量变成字符串放入占位的地方        \n"
   ]
  },
  {
   "cell_type": "code",
   "execution_count": 8,
   "metadata": {},
   "outputs": [
    {
     "name": "stdout",
     "output_type": "stream",
     "text": [
      "Python大数据学科,北京57期,毕业平均工资：16781\n"
     ]
    }
   ],
   "source": [
    "\n",
    "class_num = 57\n",
    "avy_salary = 16781\n",
    "message = \"Python大数据学科,北京%s期,毕业平均工资：%s\" % (class_num,avy_salary) # 多个变量占位时变量要用括号括起来,并按顺序填入\n",
    "print(message)"
   ]
  },
  {
   "cell_type": "code",
   "execution_count": 9,
   "metadata": {},
   "outputs": [
    {
     "name": "stdout",
     "output_type": "stream",
     "text": [
      "也爱打游戏的人是：源宝\n"
     ]
    }
   ],
   "source": [
    "name = \"源宝\"\n",
    "message = \"也爱打游戏的人是：%s\" % name\n",
    "print(message)"
   ]
  },
  {
   "cell_type": "code",
   "execution_count": 12,
   "metadata": {},
   "outputs": [
    {
     "name": "stdout",
     "output_type": "stream",
     "text": [
      "也爱打游戏的人是：源宝\n"
     ]
    }
   ],
   "source": [
    "# 用加号\n",
    "name = \"源宝\"\n",
    "message = \"也爱打游戏的人是：\" + name\n",
    "print(message)"
   ]
  },
  {
   "cell_type": "code",
   "execution_count": null,
   "metadata": {},
   "outputs": [],
   "source": []
  }
 ],
 "metadata": {
  "kernelspec": {
   "display_name": "base",
   "language": "python",
   "name": "python3"
  },
  "language_info": {
   "codemirror_mode": {
    "name": "ipython",
    "version": 3
   },
   "file_extension": ".py",
   "mimetype": "text/x-python",
   "name": "python",
   "nbconvert_exporter": "python",
   "pygments_lexer": "ipython3",
   "version": "3.11.7"
  }
 },
 "nbformat": 4,
 "nbformat_minor": 2
}
