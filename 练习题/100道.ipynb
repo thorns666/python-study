{
 "cells": [
  {
   "cell_type": "markdown",
   "metadata": {},
   "source": [
    "# 001 数字组合"
   ]
  },
  {
   "cell_type": "code",
   "execution_count": 1,
   "metadata": {},
   "outputs": [
    {
     "name": "stdout",
     "output_type": "stream",
     "text": [
      "123\n",
      "124\n",
      "132\n",
      "134\n",
      "142\n",
      "143\n",
      "213\n",
      "214\n",
      "231\n",
      "234\n",
      "241\n",
      "243\n",
      "312\n",
      "314\n",
      "321\n",
      "324\n",
      "341\n",
      "342\n",
      "412\n",
      "413\n",
      "421\n",
      "423\n",
      "431\n",
      "432\n",
      "能组成 24 个互不相同且不重复的数字的三位数\n"
     ]
    }
   ],
   "source": [
    "# 四个数字：1、2、3、4，能组成多少个互不相同且⽆重复数字的三位数？各是多少？\n",
    "# 初始化数组\n",
    "count = [1,2,3,4]\n",
    "# 初始化计数器\n",
    "num = 0\n",
    "\n",
    "\n",
    "for i in count:\n",
    "    for j in count:\n",
    "        for k in count:\n",
    "            # 判断是否重复\n",
    "            if i!=j and i != k and j != k:\n",
    "                # 打印三位数\n",
    "                print(i*100+j*10+k)\n",
    "                # 计数\n",
    "                num += 1\n",
    "# 输出结果\n",
    "print(\"能组成\",num,\"个互不相同且不重复的数字的三位数\")"
   ]
  },
  {
   "cell_type": "markdown",
   "metadata": {},
   "source": [
    "# 002 个税计算\n",
    "\n",
    "#### 题⽬：\n",
    "###### 企业发放的奖⾦根据利润提成。利润(I)低于或等于10万元时，奖⾦可提10%；利润⾼于10万元，低于 20万元时，低于10万元的部分按10%提成，⾼于10万元的部分，可提成7.5%；20万到40万之间时，⾼于20万元的部分，可提成5%；40万到60万之间时⾼于40万元的部分，可提成3%；60万到100万之间时，⾼于60万元的部分，可提成1.5%，⾼于100万元时，超过100万元的部分按1%提成，从键盘输⼊当⽉利润I，求应发放奖⾦总数？\n"
   ]
  },
  {
   "cell_type": "code",
   "execution_count": 8,
   "metadata": {},
   "outputs": [
    {
     "name": "stdout",
     "output_type": "stream",
     "text": [
      "应发放奖金总数为： 10000.0 万元\n"
     ]
    }
   ],
   "source": [
    "def calculate_bonus(profit):\n",
    "    thresholds = [100000, 200000, 400000, 600000, 1000000] # 利润阈值\n",
    "    rates = [0.1, 0.075, 0.05, 0.03, 0.015, 0.01] # 对应提成率\n",
    "    bonus= 0\n",
    "    \n",
    "    for i in range(len(thresholds)):\n",
    "        if profit <= thresholds[i]:\n",
    "            bonus += profit * rates[i]\n",
    "            break\n",
    "        else:\n",
    "            bonus += thresholds[i] * rates[i]\n",
    "            profit -= thresholds[i]\n",
    "    return bonus\n",
    "# 从键盘上输入当月利润\n",
    "profit = float(input(\"请输入当月利润（单位：万元）：\"))\n",
    "\n",
    "# 调用函数计算奖金\n",
    "bonus = calculate_bonus(profit)\n",
    "\n",
    "# 输出结果\n",
    "print(\"应发放奖金总数为：\",bonus,\"万元\")"
   ]
  },
  {
   "cell_type": "markdown",
   "metadata": {},
   "source": [
    "# 003-完全平方数\n",
    "\n",
    "#### ⼀个整数，它加上100后是⼀个完全平⽅数，再加上168⼜是⼀个完全平⽅数，请问该数是多少？"
   ]
  },
  {
   "cell_type": "code",
   "execution_count": 9,
   "metadata": {},
   "outputs": [
    {
     "name": "stdout",
     "output_type": "stream",
     "text": [
      "符合条件的整数是： 3444\n",
      "符合条件的整数是： 798\n",
      "符合条件的整数是： 308\n",
      "符合条件的整数是： 14\n"
     ]
    }
   ],
   "source": [
    "import math\n",
    "\n",
    "for m in range(1, int(math.sqrt(168)) + 1):\n",
    "   \n",
    "    # 168 是否被m整除\n",
    "    if 168 % m == 0:\n",
    "        # n * m = 168\n",
    "        n = 168 // m\n",
    "        \n",
    "        \n",
    "        if n > m and (n - m) % 2 == 0:\n",
    "            x = (n ** 2 - 168) // 2\n",
    "            \n",
    "            \n",
    "            print(\"符合条件的整数是：\",x)"
   ]
  },
  {
   "cell_type": "code",
   "execution_count": 15,
   "metadata": {},
   "outputs": [
    {
     "name": "stdout",
     "output_type": "stream",
     "text": [
      "12.96148139681572 12\n"
     ]
    }
   ],
   "source": [
    "# math.sqrt(168) 计算的是 168 的平方根\n",
    "sqrt_168 = math.sqrt(168)\n",
    "# 对168的平方根取整\n",
    "int_sqrt_168 = int(math.sqrt(168))\n",
    "\n",
    "print(sqrt_168,int_sqrt_168)"
   ]
  },
  {
   "cell_type": "markdown",
   "metadata": {},
   "source": [
    "# 004：判断⽇期是⼀年的第⼏天\n",
    "#### 输入某年某月某日，判断这一天是这一年的第几天？"
   ]
  },
  {
   "cell_type": "code",
   "execution_count": 2,
   "metadata": {},
   "outputs": [
    {
     "name": "stdout",
     "output_type": "stream",
     "text": [
      "这一天是这一年的第 156 天\n"
     ]
    }
   ],
   "source": [
    "def is_leap_year(year):\n",
    "    \"\"\"\n",
    "    判断是否为闰年\n",
    "    \"\"\"\n",
    "    return (year % 4 == 0 and year % 100 != 0) or (year % 400 == 0)\n",
    "def day_of_year(year, month, day):\n",
    "    \"\"\"\n",
    "    计算某一天是这一天的第几天\n",
    "    \"\"\"\n",
    "    days_in_month = [31, 28, 31, 30, 31, 31, 30, 31, 30, 31]\n",
    "    \n",
    "    # 如果是闰年， 二月份天数为29天\n",
    "    if is_leap_year(year):\n",
    "        days_in_month[1] = 29\n",
    "        \n",
    "    total_days = day\n",
    "    # 计算之前月份的天数总和\n",
    "    for m in range(month - 1):\n",
    "        total_days += days_in_month[m]\n",
    "    \n",
    "    return total_days\n",
    "\n",
    "# 输入年月日\n",
    "\n",
    "year = int(input(\"请输入年份:\"))\n",
    "month = int(input(\"请输入月份:\"))\n",
    "day = int(input(\"请输入日期:\"))\n",
    "\n",
    "# 调用函数计算天数\n",
    "result = day_of_year(year, month, day)\n",
    "\n",
    "# 输出结果\n",
    "print(\"这一天是这一年的第\",result, \"天\")\n"
   ]
  },
  {
   "cell_type": "markdown",
   "metadata": {},
   "source": [
    "## 005-三数排序\n",
    "### 输⼊三个整数x，y，z，请把这三个数由⼩到⼤输出。"
   ]
  },
  {
   "cell_type": "code",
   "execution_count": null,
   "metadata": {},
   "outputs": [],
   "source": [
    "# 输⼊三个整数x，y，z，请把这三个数由⼩到⼤输出。\n",
    "\"\"\"\n",
    "程序分析\n",
    "使⽤Python的内置函数sorted() 来对列表中的元素进⾏排序\n",
    "\"\"\"\n",
    "x = input()\n",
    "y = input()\n",
    "z = input()\n",
    "temp = 0\n",
    "if x > y:\n",
    "    temp = x\n",
    "    x = y\n",
    "    y = x\n",
    "    "
   ]
  }
 ],
 "metadata": {
  "kernelspec": {
   "display_name": "base",
   "language": "python",
   "name": "python3"
  },
  "language_info": {
   "codemirror_mode": {
    "name": "ipython",
    "version": 3
   },
   "file_extension": ".py",
   "mimetype": "text/x-python",
   "name": "python",
   "nbconvert_exporter": "python",
   "pygments_lexer": "ipython3",
   "version": "3.11.7"
  }
 },
 "nbformat": 4,
 "nbformat_minor": 2
}
