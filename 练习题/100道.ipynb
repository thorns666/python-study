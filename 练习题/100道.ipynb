{
 "cells": [
  {
   "cell_type": "markdown",
   "metadata": {},
   "source": [
    "# 001 数字组合"
   ]
  },
  {
   "cell_type": "code",
   "execution_count": 1,
   "metadata": {},
   "outputs": [
    {
     "name": "stdout",
     "output_type": "stream",
     "text": [
      "123\n",
      "124\n",
      "132\n",
      "134\n",
      "142\n",
      "143\n",
      "213\n",
      "214\n",
      "231\n",
      "234\n",
      "241\n",
      "243\n",
      "312\n",
      "314\n",
      "321\n",
      "324\n",
      "341\n",
      "342\n",
      "412\n",
      "413\n",
      "421\n",
      "423\n",
      "431\n",
      "432\n",
      "能组成 24 个互不相同且不重复的数字的三位数\n"
     ]
    }
   ],
   "source": [
    "# 四个数字：1、2、3、4，能组成多少个互不相同且⽆重复数字的三位数？各是多少？\n",
    "# 初始化数组\n",
    "count = [1,2,3,4]\n",
    "# 初始化计数器\n",
    "num = 0\n",
    "\n",
    "\n",
    "for i in count:\n",
    "    for j in count:\n",
    "        for k in count:\n",
    "            # 判断是否重复\n",
    "            if i!=j and i != k and j != k:\n",
    "                # 打印三位数\n",
    "                print(i*100+j*10+k)\n",
    "                # 计数\n",
    "                num += 1\n",
    "# 输出结果\n",
    "print(\"能组成\",num,\"个互不相同且不重复的数字的三位数\")"
   ]
  },
  {
   "cell_type": "markdown",
   "metadata": {},
   "source": [
    "# 002 个税计算\n",
    "\n",
    "#### 题⽬：\n",
    "###### 企业发放的奖⾦根据利润提成。利润(I)低于或等于10万元时，奖⾦可提10%；利润⾼于10万元，低于 20万元时，低于10万元的部分按10%提成，⾼于10万元的部分，可提成7.5%；20万到40万之间时，⾼于20万元的部分，可提成5%；40万到60万之间时⾼于40万元的部分，可提成3%；60万到100万之间时，⾼于60万元的部分，可提成1.5%，⾼于100万元时，超过100万元的部分按1%提成，从键盘输⼊当⽉利润I，求应发放奖⾦总数？\n"
   ]
  },
  {
   "cell_type": "code",
   "execution_count": null,
   "metadata": {},
   "outputs": [],
   "source": [
    "# 初始化利润\n",
    "meney = 0\n",
    "\n"
   ]
  }
 ],
 "metadata": {
  "kernelspec": {
   "display_name": "base",
   "language": "python",
   "name": "python3"
  },
  "language_info": {
   "codemirror_mode": {
    "name": "ipython",
    "version": 3
   },
   "file_extension": ".py",
   "mimetype": "text/x-python",
   "name": "python",
   "nbconvert_exporter": "python",
   "pygments_lexer": "ipython3",
   "version": "3.11.7"
  }
 },
 "nbformat": 4,
 "nbformat_minor": 2
}
